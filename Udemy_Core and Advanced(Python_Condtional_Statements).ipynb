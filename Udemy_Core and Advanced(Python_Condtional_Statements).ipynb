{
 "cells": [
  {
   "cell_type": "markdown",
   "metadata": {},
   "source": [
    "#Conditonal Statements\n",
    "#Command Line Argument\n",
    "#Assignments\n",
    "1. #Find even or odd numbers\n",
    "2. ##Maths_Average_Solutions\n",
    "3. #Print all the odd numbers between a min and max number\n",
    "4. #Product of numbers\n",
    "5. #string, tuple,set, range and list\n",
    "6. #Display numbers from 50 to70\n",
    "7. #Multiplication table for a given number\n",
    "8. #Break Function\n",
    "9. #Continue Function\n",
    "10. #Print 1 to 20, skip multiples of 3\n",
    "11. #Given Number is a Prime Number or Not"
   ]
  },
  {
   "cell_type": "markdown",
   "metadata": {},
   "source": [
    "# Command Line Argument"
   ]
  },
  {
   "cell_type": "code",
   "execution_count": 1,
   "metadata": {},
   "outputs": [],
   "source": [
    "import sys"
   ]
  },
  {
   "cell_type": "code",
   "execution_count": 2,
   "metadata": {},
   "outputs": [
    {
     "name": "stdout",
     "output_type": "stream",
     "text": [
      "C:\\Users\\VigneshSS\\Anaconda3\\envs\\new_env\\lib\\site-packages\\ipykernel_launcher.py\n",
      "-f\n",
      "C:\\Users\\VigneshSS\\AppData\\Roaming\\jupyter\\runtime\\kernel-df443aa1-7f60-4598-94c3-d358edf00117.json\n"
     ]
    }
   ],
   "source": [
    "#Display the command line argument\n",
    "lst = sys.argv\n",
    "\n",
    "for i in lst:\n",
    "    print(i)"
   ]
  },
  {
   "cell_type": "code",
   "execution_count": 3,
   "metadata": {},
   "outputs": [
    {
     "name": "stdout",
     "output_type": "stream",
     "text": [
      "3\n"
     ]
    }
   ],
   "source": [
    "#Display the command line argument lengths\n",
    "print(len(lst))"
   ]
  },
  {
   "cell_type": "code",
   "execution_count": 5,
   "metadata": {},
   "outputs": [
    {
     "name": "stdout",
     "output_type": "stream",
     "text": [
      "C:\\Users\\VigneshSS\\Anaconda3\\envs\\new_env\\lib\\site-packages\\ipykernel_launcher.py\n"
     ]
    }
   ],
   "source": [
    "#Dispay the Program Name\n",
    "print(lst[0])"
   ]
  },
  {
   "cell_type": "code",
   "execution_count": null,
   "metadata": {},
   "outputs": [],
   "source": [
    "lst = [5,6,8,9,7]\n",
    "\n",
    "lst1 = sys.argv\n",
    "print('Thr Product is:', int(lst1[0])*int(lst1[1]))\n",
    "\n",
    "# sys  helps us work with command line arguments\n",
    "# argv name of the command line arguments array on the sys module "
   ]
  },
  {
   "cell_type": "markdown",
   "metadata": {},
   "source": [
    "# Conditional If Statements"
   ]
  },
  {
   "cell_type": "raw",
   "metadata": {},
   "source": [
    "# Conditional : \n",
    "1.if\n",
    "2.if..else\n",
    "3.if..elif..else\n",
    "\n",
    "#Looping\n",
    "1.while\n",
    "2.for\n",
    "\n",
    "#break\n",
    "#continue\n",
    "#pass\n",
    "#return\n"
   ]
  },
  {
   "cell_type": "code",
   "execution_count": 3,
   "metadata": {},
   "outputs": [
    {
     "name": "stdout",
     "output_type": "stream",
     "text": [
      "The number from user is:85\n",
      "85 Odd Number\n"
     ]
    }
   ],
   "source": [
    "#Find even or odd numbers\n",
    "\n",
    "x =int(input('The number from user is:'))\n",
    "if x%2==0:\n",
    "    print(x,'The number is even')\n",
    "else:\n",
    "    print(x,'Odd Number')"
   ]
  },
  {
   "cell_type": "code",
   "execution_count": 5,
   "metadata": {},
   "outputs": [
    {
     "name": "stdout",
     "output_type": "stream",
     "text": [
      "The number from user is:100\n",
      "100 x is even\n"
     ]
    }
   ],
   "source": [
    "x =int(input('The number from user is:'))\n",
    "if x==0:\n",
    "    print(x,'x is zero')\n",
    "elif x%2==0:\n",
    "    print(x, \"x is even\")\n",
    "else:\n",
    "    print(x,'x is odd')"
   ]
  },
  {
   "cell_type": "markdown",
   "metadata": {},
   "source": [
    "# Assignment"
   ]
  },
  {
   "cell_type": "code",
   "execution_count": 19,
   "metadata": {},
   "outputs": [
    {
     "name": "stdout",
     "output_type": "stream",
     "text": [
      "Enter marks in maths: 80\n",
      "Enter marks in physics: 90\n",
      "Enter marks in chemistry: 75\n",
      "Pass\n",
      "Grade is A\n"
     ]
    }
   ],
   "source": [
    "#Maths_Average_Solutions\n",
    "math_marks = int(input('Enter marks in maths: '))\n",
    "physics_marks = int(input('Enter marks in physics: '))\n",
    "chemistry_marks = int(input('Enter marks in chemistry: '))\n",
    "if( (math_marks>=35) and (physics_marks>=35) and (chemistry_marks>=35)):\n",
    "    print('Pass')\n",
    "else:\n",
    "    print('Fail')\n",
    "average = (math_marks+physics_marks+chemistry_marks)/3\n",
    "if (average <=59):\n",
    "    print('Grade is C')\n",
    "elif (average <=69):\n",
    "    print('Grade is B')\n",
    "else:\n",
    "    print('Grade is A')"
   ]
  },
  {
   "cell_type": "markdown",
   "metadata": {},
   "source": [
    "# While Loop"
   ]
  },
  {
   "cell_type": "code",
   "execution_count": 5,
   "metadata": {},
   "outputs": [
    {
     "name": "stdout",
     "output_type": "stream",
     "text": [
      "The numbers are 1\n",
      "The numbers are 2\n",
      "The numbers are 3\n",
      "The numbers are 4\n",
      "The numbers are 5\n",
      "The numbers are 6\n",
      "The numbers are 7\n",
      "The numbers are 8\n",
      "The numbers are 9\n",
      "The numbers are 10\n",
      "The numbers are 11\n",
      "The numbers are 12\n",
      "The numbers are 13\n",
      "The numbers are 14\n",
      "The numbers are 15\n",
      "The numbers are 16\n",
      "The numbers are 17\n",
      "The numbers are 18\n",
      "The numbers are 19\n",
      "The numbers are 20\n"
     ]
    }
   ],
   "source": [
    "#Display numbers from 1 to 20\n",
    "numbers = 1\n",
    "\n",
    "while (numbers<=20):\n",
    "    print('The numbers are', numbers)\n",
    "    #numbers = numbers+2\n",
    "    numbers+=1"
   ]
  },
  {
   "cell_type": "code",
   "execution_count": 4,
   "metadata": {},
   "outputs": [
    {
     "data": {
      "text/plain": [
       "datetime.datetime(2020, 5, 23, 11, 4, 34, 92023)"
      ]
     },
     "execution_count": 4,
     "metadata": {},
     "output_type": "execute_result"
    }
   ],
   "source": [
    "from datetime import datetime\n",
    "now = datetime.now()\n",
    "now"
   ]
  },
  {
   "cell_type": "code",
   "execution_count": 13,
   "metadata": {},
   "outputs": [
    {
     "name": "stdout",
     "output_type": "stream",
     "text": [
      "Enter the min number: 2\n",
      "Enter the max number: 24\n",
      "3\n",
      "5\n",
      "7\n",
      "9\n",
      "11\n",
      "13\n",
      "15\n",
      "17\n",
      "19\n",
      "21\n",
      "23\n"
     ]
    }
   ],
   "source": [
    "#Print all the odd numbers between a min and max number\n",
    "x =int(input('Enter the min number: '))\n",
    "y =int(input('Enter the max number: '))\n",
    "i=x\n",
    "if (i%2==0):\n",
    "    i =i+1\n",
    "while (i<=y):\n",
    "    print(i)\n",
    "    i+=2"
   ]
  },
  {
   "cell_type": "code",
   "execution_count": 15,
   "metadata": {},
   "outputs": [
    {
     "name": "stdout",
     "output_type": "stream",
     "text": [
      "50\n",
      "53\n",
      "56\n",
      "59\n",
      "62\n",
      "65\n",
      "68\n"
     ]
    }
   ],
   "source": [
    "#string, tuple,set, range and list\n",
    "#Display numbers from 50 to70\n",
    "for i in range(50,71,3):\n",
    "    print(i)"
   ]
  },
  {
   "cell_type": "code",
   "execution_count": 20,
   "metadata": {},
   "outputs": [
    {
     "name": "stdout",
     "output_type": "stream",
     "text": [
      "5\n",
      "25\n",
      "175\n",
      "1575\n",
      "6300\n",
      "18900\n",
      "18900\n"
     ]
    }
   ],
   "source": [
    "#Product of numbers\n",
    "lst =[1,5,7,9,4,3]\n",
    "prod = 5\n",
    "\n",
    "for i in lst:\n",
    "    prod*=i\n",
    "    print(prod)\n",
    "print(prod)"
   ]
  },
  {
   "cell_type": "code",
   "execution_count": 21,
   "metadata": {},
   "outputs": [
    {
     "name": "stdout",
     "output_type": "stream",
     "text": [
      "The Number fom the user is: 8\n",
      "8 X 1 8\n",
      "8 X 2 16\n",
      "8 X 3 24\n",
      "8 X 4 32\n",
      "8 X 5 40\n",
      "8 X 6 48\n",
      "8 X 7 56\n",
      "8 X 8 64\n",
      "8 X 9 72\n",
      "8 X 10 80\n"
     ]
    }
   ],
   "source": [
    "    #Multiplication table for a given number\n",
    "x =int(input('The Number fom the user is: '))\n",
    "\n",
    "for i in range(1,11):\n",
    "    print(x, \"X\", i, x*i)"
   ]
  },
  {
   "cell_type": "code",
   "execution_count": 22,
   "metadata": {},
   "outputs": [
    {
     "name": "stdout",
     "output_type": "stream",
     "text": [
      "1\n",
      "5\n",
      "8\n"
     ]
    }
   ],
   "source": [
    "#Break Function\n",
    "lst = [1,5,8,9,7,4]\n",
    "\n",
    "for i in lst:\n",
    "    if(i == 9):\n",
    "        break\n",
    "    print(i)\n",
    "#Break statement is always used inside a if statement"
   ]
  },
  {
   "cell_type": "code",
   "execution_count": 24,
   "metadata": {},
   "outputs": [
    {
     "name": "stdout",
     "output_type": "stream",
     "text": [
      "1\n",
      "5\n",
      "8\n",
      "7\n",
      "4\n"
     ]
    }
   ],
   "source": [
    "#Continue Function\n",
    "lst = [1,5,8,9,7,4]\n",
    "\n",
    "for i in lst:\n",
    "    if(i == 9):\n",
    "        continue\n",
    "    print(i)\n",
    "\n",
    "\n",
    "\n",
    "#Continue statement is always used inside a if statement"
   ]
  },
  {
   "cell_type": "code",
   "execution_count": 1,
   "metadata": {},
   "outputs": [
    {
     "name": "stdout",
     "output_type": "stream",
     "text": [
      "1\n",
      "2\n",
      "4\n",
      "5\n",
      "7\n",
      "8\n",
      "10\n",
      "11\n",
      "13\n",
      "14\n",
      "16\n",
      "17\n",
      "19\n",
      "20\n"
     ]
    }
   ],
   "source": [
    "#Print 1 to 20, skip multiples of 3\n",
    "\n",
    "x =0\n",
    "while (x<20):\n",
    "    x+=1\n",
    "    if(x%3==0):\n",
    "        continue\n",
    "    print(x)"
   ]
  },
  {
   "cell_type": "code",
   "execution_count": 7,
   "metadata": {},
   "outputs": [
    {
     "name": "stdout",
     "output_type": "stream",
     "text": [
      "Enter number greater than 10:4\n"
     ]
    },
    {
     "ename": "AssertionError",
     "evalue": "wrong number entered",
     "output_type": "error",
     "traceback": [
      "\u001b[1;31m---------------------------------------------------------------------------\u001b[0m",
      "\u001b[1;31mAssertionError\u001b[0m                            Traceback (most recent call last)",
      "\u001b[1;32m<ipython-input-7-12afcb3d4fcd>\u001b[0m in \u001b[0;36m<module>\u001b[1;34m\u001b[0m\n\u001b[0;32m      1\u001b[0m \u001b[1;31m#Assert Statement\u001b[0m\u001b[1;33m\u001b[0m\u001b[1;33m\u001b[0m\u001b[1;33m\u001b[0m\u001b[0m\n\u001b[0;32m      2\u001b[0m \u001b[0mx\u001b[0m \u001b[1;33m=\u001b[0m \u001b[0mint\u001b[0m\u001b[1;33m(\u001b[0m\u001b[0minput\u001b[0m\u001b[1;33m(\u001b[0m\u001b[1;34m'Enter number greater than 10:'\u001b[0m\u001b[1;33m)\u001b[0m\u001b[1;33m)\u001b[0m\u001b[1;33m\u001b[0m\u001b[1;33m\u001b[0m\u001b[0m\n\u001b[1;32m----> 3\u001b[1;33m \u001b[1;32massert\u001b[0m \u001b[0mx\u001b[0m\u001b[1;33m==\u001b[0m\u001b[1;36m10\u001b[0m\u001b[1;33m,\u001b[0m\u001b[1;34m\"wrong number entered\"\u001b[0m\u001b[1;33m\u001b[0m\u001b[1;33m\u001b[0m\u001b[0m\n\u001b[0m\u001b[0;32m      4\u001b[0m \u001b[0mprint\u001b[0m\u001b[1;33m(\u001b[0m\u001b[1;34m'You entered number,'\u001b[0m \u001b[1;33m,\u001b[0m\u001b[0mx\u001b[0m\u001b[1;33m)\u001b[0m\u001b[1;33m\u001b[0m\u001b[1;33m\u001b[0m\u001b[0m\n",
      "\u001b[1;31mAssertionError\u001b[0m: wrong number entered"
     ]
    }
   ],
   "source": [
    "#Assert Statement\n",
    "x = int(input('Enter number greater than 10:'))\n",
    "assert x==10,\"wrong number entered\"\n",
    "print('You entered number,' ,x)"
   ]
  },
  {
   "cell_type": "code",
   "execution_count": null,
   "metadata": {},
   "outputs": [],
   "source": [
    "#Which of the following loop should be used while working with a sequence   -> For Loop\n",
    "#Which of the following should be used to skip the current iteration of a loop ->Continue"
   ]
  },
  {
   "cell_type": "markdown",
   "metadata": {},
   "source": [
    "### Assignment\n",
    "# Ask a user to enter the number and display all the number up to that number and skip the multiple of 10 and stop if it is greater than 100\n",
    "\n",
    "####Keywords:\n",
    "1. while loop\n",
    "2. continue \n",
    "3. Break"
   ]
  },
  {
   "cell_type": "code",
   "execution_count": 13,
   "metadata": {},
   "outputs": [
    {
     "name": "stdout",
     "output_type": "stream",
     "text": [
      "Number from the user: 1\n",
      "1\n",
      "2\n",
      "3\n",
      "4\n",
      "5\n",
      "6\n",
      "7\n",
      "8\n",
      "9\n",
      "10\n"
     ]
    }
   ],
   "source": [
    "x = int(input('Number from the user: '))\n",
    "\n",
    "i=0\n",
    "while(i<+10):\n",
    "    i+=1\n",
    "    print(i)\n",
    "    if(i%10==0):\n",
    "        continue\n",
    "        print(i)\n",
    "    if(i>100):\n",
    "        break\n",
    "        print(i)\n",
    "        \n",
    "    "
   ]
  },
  {
   "cell_type": "markdown",
   "metadata": {},
   "source": [
    "# Given Number is a Prime Number or Not\n",
    "\n",
    "# KeyNotes:\n",
    "   1. primeFlag = true:\n",
    "   2. Loop from 2 to n-1\n",
    "    3. if n%i == 0:\n",
    "    4. primeFlag = false;\n",
    "     5.if(primeFlag):\n",
    "     6. print('Prime No')\n",
    "      7. else:\n",
    "      8. print('No Prime No')"
   ]
  },
  {
   "cell_type": "code",
   "execution_count": 15,
   "metadata": {},
   "outputs": [
    {
     "name": "stdout",
     "output_type": "stream",
     "text": [
      "Number from the user: 1\n"
     ]
    }
   ],
   "source": [
    "num = int(input(\"Number from the user: \"))\n",
    "primeFlag = True\n",
    "\n",
    "for i in range(2, num-1):\n",
    "    if (num%1==0):\n",
    "        primeFlag = False\n",
    "    if primeFlag is True:\n",
    "        print(\"{} is a prime number\".format(num))\n",
    "\n",
    "    else:\n",
    "        print(\"{} is not a prime number\".format(num))\n",
    "\n",
    "    "
   ]
  },
  {
   "cell_type": "code",
   "execution_count": null,
   "metadata": {},
   "outputs": [],
   "source": []
  },
  {
   "cell_type": "code",
   "execution_count": null,
   "metadata": {},
   "outputs": [],
   "source": []
  },
  {
   "cell_type": "code",
   "execution_count": null,
   "metadata": {},
   "outputs": [],
   "source": []
  },
  {
   "cell_type": "code",
   "execution_count": null,
   "metadata": {},
   "outputs": [],
   "source": []
  },
  {
   "cell_type": "code",
   "execution_count": null,
   "metadata": {},
   "outputs": [],
   "source": []
  },
  {
   "cell_type": "code",
   "execution_count": null,
   "metadata": {},
   "outputs": [],
   "source": []
  },
  {
   "cell_type": "code",
   "execution_count": null,
   "metadata": {},
   "outputs": [],
   "source": []
  }
 ],
 "metadata": {
  "kernelspec": {
   "display_name": "Python 3",
   "language": "python",
   "name": "python3"
  },
  "language_info": {
   "codemirror_mode": {
    "name": "ipython",
    "version": 3
   },
   "file_extension": ".py",
   "mimetype": "text/x-python",
   "name": "python",
   "nbconvert_exporter": "python",
   "pygments_lexer": "ipython3",
   "version": "3.7.7"
  }
 },
 "nbformat": 4,
 "nbformat_minor": 4
}
