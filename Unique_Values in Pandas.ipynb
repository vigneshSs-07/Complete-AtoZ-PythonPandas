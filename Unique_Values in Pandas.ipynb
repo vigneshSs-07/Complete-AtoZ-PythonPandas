{
 "cells": [
  {
   "cell_type": "code",
   "execution_count": 1,
   "metadata": {},
   "outputs": [],
   "source": [
    "import pandas as pd\n",
    "import numpy as np"
   ]
  },
  {
   "cell_type": "code",
   "execution_count": 2,
   "metadata": {},
   "outputs": [
    {
     "data": {
      "text/html": [
       "<div>\n",
       "<style scoped>\n",
       "    .dataframe tbody tr th:only-of-type {\n",
       "        vertical-align: middle;\n",
       "    }\n",
       "\n",
       "    .dataframe tbody tr th {\n",
       "        vertical-align: top;\n",
       "    }\n",
       "\n",
       "    .dataframe thead th {\n",
       "        text-align: right;\n",
       "    }\n",
       "</style>\n",
       "<table border=\"1\" class=\"dataframe\">\n",
       "  <thead>\n",
       "    <tr style=\"text-align: right;\">\n",
       "      <th></th>\n",
       "      <th>Product</th>\n",
       "      <th>Category</th>\n",
       "      <th>item_id</th>\n",
       "      <th>size</th>\n",
       "      <th>user_id</th>\n",
       "      <th>Size convention used (Num/Alpha)</th>\n",
       "      <th>Alphabetical_size</th>\n",
       "      <th>New product code</th>\n",
       "      <th>str</th>\n",
       "      <th>fit</th>\n",
       "    </tr>\n",
       "  </thead>\n",
       "  <tbody>\n",
       "    <tr>\n",
       "      <th>0</th>\n",
       "      <td>sweater</td>\n",
       "      <td>Women's Topwear</td>\n",
       "      <td>2251739</td>\n",
       "      <td>8</td>\n",
       "      <td>276186</td>\n",
       "      <td>Alpha</td>\n",
       "      <td>M</td>\n",
       "      <td>232899</td>\n",
       "      <td>sweater22517398</td>\n",
       "      <td>fit</td>\n",
       "    </tr>\n",
       "    <tr>\n",
       "      <th>1</th>\n",
       "      <td>sweater</td>\n",
       "      <td>Women's Topwear</td>\n",
       "      <td>2107747</td>\n",
       "      <td>14</td>\n",
       "      <td>24792</td>\n",
       "      <td>Alpha</td>\n",
       "      <td>L</td>\n",
       "      <td>154002</td>\n",
       "      <td>sweater210774714</td>\n",
       "      <td>large</td>\n",
       "    </tr>\n",
       "    <tr>\n",
       "      <th>2</th>\n",
       "      <td>sweater</td>\n",
       "      <td>Women's Topwear</td>\n",
       "      <td>2576170</td>\n",
       "      <td>14</td>\n",
       "      <td>849315</td>\n",
       "      <td>Alpha</td>\n",
       "      <td>L</td>\n",
       "      <td>279859</td>\n",
       "      <td>sweater257617014</td>\n",
       "      <td>fit</td>\n",
       "    </tr>\n",
       "    <tr>\n",
       "      <th>3</th>\n",
       "      <td>sweater</td>\n",
       "      <td>Women's Topwear</td>\n",
       "      <td>2533108</td>\n",
       "      <td>14</td>\n",
       "      <td>921464</td>\n",
       "      <td>Alpha</td>\n",
       "      <td>L</td>\n",
       "      <td>259136</td>\n",
       "      <td>sweater253310814</td>\n",
       "      <td>fit</td>\n",
       "    </tr>\n",
       "    <tr>\n",
       "      <th>4</th>\n",
       "      <td>pullover</td>\n",
       "      <td>Women's Topwear</td>\n",
       "      <td>2130194</td>\n",
       "      <td>8</td>\n",
       "      <td>585892</td>\n",
       "      <td>Alpha</td>\n",
       "      <td>M</td>\n",
       "      <td>708064</td>\n",
       "      <td>pullover21301948</td>\n",
       "      <td>large</td>\n",
       "    </tr>\n",
       "  </tbody>\n",
       "</table>\n",
       "</div>"
      ],
      "text/plain": [
       "    Product         Category  item_id  size  user_id  \\\n",
       "0   sweater  Women's Topwear  2251739     8   276186   \n",
       "1   sweater  Women's Topwear  2107747    14    24792   \n",
       "2   sweater  Women's Topwear  2576170    14   849315   \n",
       "3   sweater  Women's Topwear  2533108    14   921464   \n",
       "4  pullover  Women's Topwear  2130194     8   585892   \n",
       "\n",
       "  Size convention used (Num/Alpha) Alphabetical_size  New product code  \\\n",
       "0                            Alpha                 M            232899   \n",
       "1                            Alpha                 L            154002   \n",
       "2                            Alpha                 L            279859   \n",
       "3                            Alpha                 L            259136   \n",
       "4                            Alpha                 M            708064   \n",
       "\n",
       "                str    fit  \n",
       "0   sweater22517398    fit  \n",
       "1  sweater210774714  large  \n",
       "2  sweater257617014    fit  \n",
       "3  sweater253310814    fit  \n",
       "4  pullover21301948  large  "
      ]
     },
     "execution_count": 2,
     "metadata": {},
     "output_type": "execute_result"
    }
   ],
   "source": [
    "copy_customer = pd.read_excel('Copy of renttherunway - cat and sizes -alphasizes.xlsx')\n",
    "copy_customer.head()"
   ]
  },
  {
   "cell_type": "code",
   "execution_count": 3,
   "metadata": {},
   "outputs": [
    {
     "data": {
      "text/html": [
       "<div>\n",
       "<style scoped>\n",
       "    .dataframe tbody tr th:only-of-type {\n",
       "        vertical-align: middle;\n",
       "    }\n",
       "\n",
       "    .dataframe tbody tr th {\n",
       "        vertical-align: top;\n",
       "    }\n",
       "\n",
       "    .dataframe thead th {\n",
       "        text-align: right;\n",
       "    }\n",
       "</style>\n",
       "<table border=\"1\" class=\"dataframe\">\n",
       "  <thead>\n",
       "    <tr style=\"text-align: right;\">\n",
       "      <th></th>\n",
       "      <th>user_id</th>\n",
       "      <th>Alphabetical_size</th>\n",
       "      <th>New product code</th>\n",
       "      <th>fit</th>\n",
       "    </tr>\n",
       "  </thead>\n",
       "  <tbody>\n",
       "    <tr>\n",
       "      <th>0</th>\n",
       "      <td>276186</td>\n",
       "      <td>M</td>\n",
       "      <td>232899</td>\n",
       "      <td>fit</td>\n",
       "    </tr>\n",
       "    <tr>\n",
       "      <th>1</th>\n",
       "      <td>24792</td>\n",
       "      <td>L</td>\n",
       "      <td>154002</td>\n",
       "      <td>large</td>\n",
       "    </tr>\n",
       "    <tr>\n",
       "      <th>2</th>\n",
       "      <td>849315</td>\n",
       "      <td>L</td>\n",
       "      <td>279859</td>\n",
       "      <td>fit</td>\n",
       "    </tr>\n",
       "    <tr>\n",
       "      <th>3</th>\n",
       "      <td>921464</td>\n",
       "      <td>L</td>\n",
       "      <td>259136</td>\n",
       "      <td>fit</td>\n",
       "    </tr>\n",
       "    <tr>\n",
       "      <th>4</th>\n",
       "      <td>585892</td>\n",
       "      <td>M</td>\n",
       "      <td>708064</td>\n",
       "      <td>large</td>\n",
       "    </tr>\n",
       "  </tbody>\n",
       "</table>\n",
       "</div>"
      ],
      "text/plain": [
       "   user_id Alphabetical_size  New product code    fit\n",
       "0   276186                 M            232899    fit\n",
       "1    24792                 L            154002  large\n",
       "2   849315                 L            279859    fit\n",
       "3   921464                 L            259136    fit\n",
       "4   585892                 M            708064  large"
      ]
     },
     "execution_count": 3,
     "metadata": {},
     "output_type": "execute_result"
    }
   ],
   "source": [
    "copy_customer = copy_customer.drop(['Product', 'Category', 'item_id', 'size','Size convention used (Num/Alpha)','str'], axis =1)\n",
    "copy_customer.head()"
   ]
  },
  {
   "cell_type": "code",
   "execution_count": 4,
   "metadata": {},
   "outputs": [
    {
     "data": {
      "text/html": [
       "<div>\n",
       "<style scoped>\n",
       "    .dataframe tbody tr th:only-of-type {\n",
       "        vertical-align: middle;\n",
       "    }\n",
       "\n",
       "    .dataframe tbody tr th {\n",
       "        vertical-align: top;\n",
       "    }\n",
       "\n",
       "    .dataframe thead th {\n",
       "        text-align: right;\n",
       "    }\n",
       "</style>\n",
       "<table border=\"1\" class=\"dataframe\">\n",
       "  <thead>\n",
       "    <tr style=\"text-align: right;\">\n",
       "      <th></th>\n",
       "      <th>user_id</th>\n",
       "      <th>Alphabetical_size</th>\n",
       "      <th>item_id</th>\n",
       "      <th>fit</th>\n",
       "    </tr>\n",
       "  </thead>\n",
       "  <tbody>\n",
       "    <tr>\n",
       "      <th>0</th>\n",
       "      <td>276186</td>\n",
       "      <td>M</td>\n",
       "      <td>232899</td>\n",
       "      <td>fit</td>\n",
       "    </tr>\n",
       "    <tr>\n",
       "      <th>1</th>\n",
       "      <td>24792</td>\n",
       "      <td>L</td>\n",
       "      <td>154002</td>\n",
       "      <td>large</td>\n",
       "    </tr>\n",
       "    <tr>\n",
       "      <th>2</th>\n",
       "      <td>849315</td>\n",
       "      <td>L</td>\n",
       "      <td>279859</td>\n",
       "      <td>fit</td>\n",
       "    </tr>\n",
       "    <tr>\n",
       "      <th>3</th>\n",
       "      <td>921464</td>\n",
       "      <td>L</td>\n",
       "      <td>259136</td>\n",
       "      <td>fit</td>\n",
       "    </tr>\n",
       "    <tr>\n",
       "      <th>4</th>\n",
       "      <td>585892</td>\n",
       "      <td>M</td>\n",
       "      <td>708064</td>\n",
       "      <td>large</td>\n",
       "    </tr>\n",
       "  </tbody>\n",
       "</table>\n",
       "</div>"
      ],
      "text/plain": [
       "   user_id Alphabetical_size  item_id    fit\n",
       "0   276186                 M   232899    fit\n",
       "1    24792                 L   154002  large\n",
       "2   849315                 L   279859    fit\n",
       "3   921464                 L   259136    fit\n",
       "4   585892                 M   708064  large"
      ]
     },
     "execution_count": 4,
     "metadata": {},
     "output_type": "execute_result"
    }
   ],
   "source": [
    "copy_customer = copy_customer.rename(columns={'New product code': 'item_id'})\n",
    "copy_customer.head()"
   ]
  },
  {
   "cell_type": "code",
   "execution_count": 5,
   "metadata": {},
   "outputs": [
    {
     "name": "stdout",
     "output_type": "stream",
     "text": [
      "The shape is : (2240, 4)\n",
      "The Number of Unique id is 1663\n"
     ]
    }
   ],
   "source": [
    "\n",
    "print('The shape is :', copy_customer.shape)\n",
    "print('The Number of Unique id is', (copy_customer.user_id.nunique()))"
   ]
  },
  {
   "cell_type": "code",
   "execution_count": 6,
   "metadata": {},
   "outputs": [
    {
     "name": "stdout",
     "output_type": "stream",
     "text": [
      "[276186  24792 849315 ... 212798 262696 431280]\n"
     ]
    }
   ],
   "source": [
    "#List the NNUmber of Unique Values\n",
    "unique_values =  pd.unique(copy_customer['user_id'])\n",
    "print(unique_values)"
   ]
  },
  {
   "cell_type": "code",
   "execution_count": 7,
   "metadata": {},
   "outputs": [
    {
     "name": "stdout",
     "output_type": "stream",
     "text": [
      "45337     16\n",
      "362951    14\n",
      "970234    10\n",
      "32925      9\n",
      "238654     7\n",
      "          ..\n",
      "455127     1\n",
      "113114     1\n",
      "111075     1\n",
      "698852     1\n",
      "328213     1\n",
      "Name: user_id, Length: 1663, dtype: int64\n"
     ]
    }
   ],
   "source": [
    "#List the Number of values and its occurence inside a column\n",
    "Unique_Values = pd.value_counts(copy_customer['user_id'])\n",
    "print(Unique_Values)"
   ]
  },
  {
   "cell_type": "code",
   "execution_count": null,
   "metadata": {},
   "outputs": [],
   "source": []
  }
 ],
 "metadata": {
  "kernelspec": {
   "display_name": "Python 3",
   "language": "python",
   "name": "python3"
  },
  "language_info": {
   "codemirror_mode": {
    "name": "ipython",
    "version": 3
   },
   "file_extension": ".py",
   "mimetype": "text/x-python",
   "name": "python",
   "nbconvert_exporter": "python",
   "pygments_lexer": "ipython3",
   "version": "3.7.7"
  }
 },
 "nbformat": 4,
 "nbformat_minor": 4
}
