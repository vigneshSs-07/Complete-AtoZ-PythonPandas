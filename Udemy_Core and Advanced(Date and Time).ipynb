{
 "cells": [
  {
   "cell_type": "markdown",
   "metadata": {},
   "source": [
    "# DateandTime\n",
    "\n",
    "#Current Date and time\n",
    "#Combining date and time\n",
    "#Comparing date and time\n",
    "#sleep()\n",
    "#perf_counter()\n",
    "\n",
    "Time since epoch()->Jan 1st 1970"
   ]
  },
  {
   "cell_type": "markdown",
   "metadata": {},
   "source": [
    "#### `DATE TIME`\n",
    "\n",
    "---\n",
    "\n",
    "\n",
    "\n",
    "| **Directive** | **Meaning**                                            |\n",
    "| ---           | ---                                                    |\n",
    "|  **%a**       | Weekday as locale’s abbreviated name.                  |\n",
    "|  **%A**       | Weekday as locale’s full name.                         |  \n",
    "|  **%d**       | Day of the month as a zero-padded decimal number.      |\n",
    "|  **%b**       | Month as locale’s abbreviated name.\t                 |\n",
    "|  **%B**       | Month as locale’s full name.\t                         |\n",
    "|  **%m**       | Month as a zero-padded decimal number.                 |\n",
    "|  **%y**       | Year without century as a zero-padded decimal number.  |\n",
    "|  **%Y**       | Year with century as a decimal number.                 |\n",
    "|  **%H**       | Hour (24-hour clock) as a zero-padded decimal number.  |\n",
    "\n",
    "\n",
    "\n",
    "---\n",
    "\n",
    "***You can read more about the other directives and datetime library here: https://docs.python.org/3/library/datetime.html***"
   ]
  },
  {
   "cell_type": "code",
   "execution_count": 2,
   "metadata": {},
   "outputs": [],
   "source": [
    "import datetime"
   ]
  },
  {
   "cell_type": "code",
   "execution_count": 7,
   "metadata": {},
   "outputs": [
    {
     "name": "stdout",
     "output_type": "stream",
     "text": [
      "Current date and time : 2020-05-24 13:24:16.244447\n"
     ]
    }
   ],
   "source": [
    "import datetime\n",
    "now = datetime.datetime.now()\n",
    "print (\"Current date and time :\", now)"
   ]
  },
  {
   "cell_type": "code",
   "execution_count": 5,
   "metadata": {},
   "outputs": [
    {
     "name": "stdout",
     "output_type": "stream",
     "text": [
      "1590306786.2413685\n"
     ]
    }
   ],
   "source": [
    "#import time\n",
    "import time\n",
    "epochseconds = time.time()\n",
    "print(epochsecondschseconds)"
   ]
  },
  {
   "cell_type": "code",
   "execution_count": 6,
   "metadata": {},
   "outputs": [
    {
     "data": {
      "text/plain": [
       "'Sun May 24 13:23:06 2020'"
      ]
     },
     "execution_count": 6,
     "metadata": {},
     "output_type": "execute_result"
    }
   ],
   "source": [
    "t = time.ctime(epochseconds)\n",
    "t"
   ]
  },
  {
   "cell_type": "code",
   "execution_count": 9,
   "metadata": {},
   "outputs": [
    {
     "name": "stdout",
     "output_type": "stream",
     "text": [
      "2020-05-24 13:25:23.892733\n"
     ]
    }
   ],
   "source": [
    "dt = datetime.datetime.today()\n",
    "print(dt)"
   ]
  },
  {
   "cell_type": "code",
   "execution_count": 12,
   "metadata": {},
   "outputs": [
    {
     "name": "stdout",
     "output_type": "stream",
     "text": [
      "Current Date 24/5/2020\n"
     ]
    }
   ],
   "source": [
    "print(\"Current Date {}/{}/{}\" .format(dt.day, dt.month,dt.year))"
   ]
  },
  {
   "cell_type": "code",
   "execution_count": 15,
   "metadata": {},
   "outputs": [
    {
     "name": "stdout",
     "output_type": "stream",
     "text": [
      "Current time 13:25:23\n"
     ]
    }
   ],
   "source": [
    "print(\"Current time {}:{}:{}\" .format(dt.hour, dt.minute,dt.second))"
   ]
  },
  {
   "cell_type": "markdown",
   "metadata": {},
   "source": [
    "# Combined date and time"
   ]
  },
  {
   "cell_type": "code",
   "execution_count": 17,
   "metadata": {},
   "outputs": [],
   "source": [
    "from datetime import *"
   ]
  },
  {
   "cell_type": "code",
   "execution_count": 21,
   "metadata": {},
   "outputs": [
    {
     "name": "stdout",
     "output_type": "stream",
     "text": [
      "2019-02-15 12:58:00\n"
     ]
    }
   ],
   "source": [
    "d = date(2019,2,15)\n",
    "t= time(12,58)\n",
    "\n",
    "dt = datetime.combine(d,t)\n",
    "print(dt)"
   ]
  },
  {
   "cell_type": "markdown",
   "metadata": {},
   "source": [
    "# Sorting_Dates"
   ]
  },
  {
   "cell_type": "code",
   "execution_count": 24,
   "metadata": {},
   "outputs": [
    {
     "name": "stdout",
     "output_type": "stream",
     "text": [
      "2015-08-12\n",
      "2016-08-02\n",
      "2019-02-12\n"
     ]
    }
   ],
   "source": [
    "ldates = []\n",
    "\n",
    "d1 = date(2015,8,12)\n",
    "d2 = date(2019,2,12)\n",
    "d3 = date(2016,8,2)\n",
    "\n",
    "ldates.append(d1)\n",
    "ldates.append(d2)\n",
    "ldates.append(d3)\n",
    "\n",
    "\n",
    "ldates.sort()\n",
    "\n",
    "for d in ldates:\n",
    "    print(d)"
   ]
  },
  {
   "cell_type": "markdown",
   "metadata": {},
   "source": [
    "# Sleep"
   ]
  },
  {
   "cell_type": "code",
   "execution_count": 25,
   "metadata": {},
   "outputs": [],
   "source": [
    "from datetime import date\n",
    "import time"
   ]
  },
  {
   "cell_type": "code",
   "execution_count": 34,
   "metadata": {},
   "outputs": [
    {
     "name": "stdout",
     "output_type": "stream",
     "text": [
      "2015-08-12\n",
      "2016-04-12\n",
      "2020-08-22\n"
     ]
    }
   ],
   "source": [
    "startTime = time.perf_counter()\n",
    "\n",
    "lastdates = []\n",
    "\n",
    "d1 = date(2015,8,12)\n",
    "d2 = date(2016,4,12)\n",
    "d3 = date(2020,8,22)\n",
    "\n",
    "lastdates.append(d1)\n",
    "lastdates.append(d2)\n",
    "lastdates.append(d3)\n",
    "\n",
    "lastdates.sort()\n",
    "time.sleep(3)\n",
    "\n",
    "for i in lastdates:\n",
    "    print(i)\n",
    "    \n",
    "endTime = time.perf_counter()\n",
    "\n",
    "#print('Execution time:' endTime - startTime)"
   ]
  },
  {
   "cell_type": "code",
   "execution_count": 35,
   "metadata": {},
   "outputs": [],
   "source": [
    "# Knowing the execution time of a program\n",
    "\n",
    "\n",
    "#The sleep method accepts time in milli seconds -> False\n"
   ]
  },
  {
   "cell_type": "code",
   "execution_count": 1,
   "metadata": {},
   "outputs": [],
   "source": [
    "# dates are easily constructed and formatted\n",
    "from datetime import date"
   ]
  },
  {
   "cell_type": "code",
   "execution_count": 2,
   "metadata": {},
   "outputs": [
    {
     "name": "stdout",
     "output_type": "stream",
     "text": [
      "Date:  2020-05-27\n"
     ]
    }
   ],
   "source": [
    "# get the current date\n",
    "TODAY = date.today()\n",
    "print(\"Date: \", TODAY)"
   ]
  },
  {
   "cell_type": "code",
   "execution_count": 3,
   "metadata": {},
   "outputs": [
    {
     "name": "stdout",
     "output_type": "stream",
     "text": [
      "Formatted date: 05-27-20.\n"
     ]
    }
   ],
   "source": [
    "# format date\n",
    "print(\"Formatted date:\", TODAY.strftime(\"%m-%d-%y.\"))"
   ]
  },
  {
   "cell_type": "code",
   "execution_count": 4,
   "metadata": {},
   "outputs": [
    {
     "name": "stdout",
     "output_type": "stream",
     "text": [
      "Formatted date: 27 May 2020 \n"
     ]
    }
   ],
   "source": [
    "# format date\n",
    "print(\"Formatted date:\", TODAY.strftime(\"%d %b %Y \"))"
   ]
  },
  {
   "cell_type": "code",
   "execution_count": 5,
   "metadata": {},
   "outputs": [
    {
     "name": "stdout",
     "output_type": "stream",
     "text": [
      "Formatted date: Wednesday on the 27 day of May.\n"
     ]
    }
   ],
   "source": [
    "# format date\n",
    "print(\"Formatted date:\", TODAY.strftime(\"%A on the %d day of %B.\"))"
   ]
  },
  {
   "cell_type": "code",
   "execution_count": 7,
   "metadata": {},
   "outputs": [
    {
     "name": "stdout",
     "output_type": "stream",
     "text": [
      "Age in days: 9532\n"
     ]
    }
   ],
   "source": [
    "# dates support calendar arithmetic\n",
    "birthday = date(1994, 4, 22)\n",
    "age = TODAY - birthday\n",
    "\n",
    "print(\"Age in days:\", age.days)"
   ]
  },
  {
   "cell_type": "code",
   "execution_count": null,
   "metadata": {},
   "outputs": [],
   "source": []
  }
 ],
 "metadata": {
  "kernelspec": {
   "display_name": "Python 3",
   "language": "python",
   "name": "python3"
  },
  "language_info": {
   "codemirror_mode": {
    "name": "ipython",
    "version": 3
   },
   "file_extension": ".py",
   "mimetype": "text/x-python",
   "name": "python",
   "nbconvert_exporter": "python",
   "pygments_lexer": "ipython3",
   "version": "3.7.7"
  }
 },
 "nbformat": 4,
 "nbformat_minor": 4
}
