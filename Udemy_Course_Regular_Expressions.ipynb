{
 "cells": [
  {
   "cell_type": "markdown",
   "metadata": {},
   "source": [
    "# Regular_Expressions\n",
    "\n",
    "import re\n",
    "1. match\n",
    "2. search\n",
    "3. findall\n",
    "4. split\n",
    "5. sub"
   ]
  },
  {
   "cell_type": "markdown",
   "metadata": {},
   "source": [
    "\\d ->any digit(0 to 9)\n",
    "\\D -> any non digit character\n",
    "\\s -> whitespace\n",
    "\\S -> non whitespace\n",
    "\\w -> alpha numeric(a to z)\n",
    "\\W -> non alpha numeric character\n",
    "\\b -> is the space ariund words\n",
    "\\A -> matches only start of the string it will do a search right at the begining of the string\n",
    "\\Z -> matches only at the end of the string"
   ]
  },
  {
   "cell_type": "markdown",
   "metadata": {},
   "source": [
    "# Search"
   ]
  },
  {
   "cell_type": "code",
   "execution_count": 19,
   "metadata": {},
   "outputs": [],
   "source": [
    "import re\n",
    "str =\"Take up one idea.one idea at a time\""
   ]
  },
  {
   "cell_type": "code",
   "execution_count": 10,
   "metadata": {},
   "outputs": [
    {
     "name": "stdout",
     "output_type": "stream",
     "text": [
      "<re.Match object; span=(8, 11), match='one'>\n"
     ]
    }
   ],
   "source": [
    "result = re.search(r'o\\w\\w', str)\n",
    "print(result)"
   ]
  },
  {
   "cell_type": "code",
   "execution_count": 11,
   "metadata": {},
   "outputs": [
    {
     "data": {
      "text/plain": [
       "'one'"
      ]
     },
     "execution_count": 11,
     "metadata": {},
     "output_type": "execute_result"
    }
   ],
   "source": [
    "result.group()"
   ]
  },
  {
   "cell_type": "code",
   "execution_count": 12,
   "metadata": {},
   "outputs": [
    {
     "data": {
      "text/plain": [
       "'on'"
      ]
     },
     "execution_count": 12,
     "metadata": {},
     "output_type": "execute_result"
    }
   ],
   "source": [
    "result = re.search(r'o\\w', str)\n",
    "result.group()\n",
    "#group is only for search and match option"
   ]
  },
  {
   "cell_type": "markdown",
   "metadata": {},
   "source": [
    "# Findall and Match"
   ]
  },
  {
   "cell_type": "code",
   "execution_count": 21,
   "metadata": {},
   "outputs": [
    {
     "data": {
      "text/plain": [
       "[]"
      ]
     },
     "execution_count": 21,
     "metadata": {},
     "output_type": "execute_result"
    }
   ],
   "source": [
    "rsu = re.findall(r'O\\w\\w', str)\n",
    "rsu\n",
    "\n",
    "rsu = re.findall(r'o\\w\\w', str)\n",
    "rsu"
   ]
  },
  {
   "cell_type": "code",
   "execution_count": 24,
   "metadata": {},
   "outputs": [
    {
     "name": "stdout",
     "output_type": "stream",
     "text": [
      "Take\n"
     ]
    }
   ],
   "source": [
    "reu = re.match(r'T\\w\\w\\w', str)  #matches searches at the begining of the string\n",
    "print(reu.group())"
   ]
  },
  {
   "cell_type": "markdown",
   "metadata": {},
   "source": [
    "# Split"
   ]
  },
  {
   "cell_type": "code",
   "execution_count": 25,
   "metadata": {},
   "outputs": [],
   "source": [
    "str1 =\"Take 12 up one idea.21 one idea at a time\""
   ]
  },
  {
   "cell_type": "code",
   "execution_count": 26,
   "metadata": {},
   "outputs": [
    {
     "data": {
      "text/plain": [
       "['Take ', ' up one idea.', ' one idea at a time']"
      ]
     },
     "execution_count": 26,
     "metadata": {},
     "output_type": "execute_result"
    }
   ],
   "source": [
    "resuce = re.split(r'\\d+', str1)\n",
    "resuce"
   ]
  },
  {
   "cell_type": "markdown",
   "metadata": {},
   "source": [
    "# Substitute"
   ]
  },
  {
   "cell_type": "code",
   "execution_count": 27,
   "metadata": {},
   "outputs": [
    {
     "data": {
      "text/plain": [
       "'Take 12 up Two idea.21 Two idea at a time'"
      ]
     },
     "execution_count": 27,
     "metadata": {},
     "output_type": "execute_result"
    }
   ],
   "source": [
    "resu = re.sub('one','Two', str1)\n",
    "resu"
   ]
  },
  {
   "cell_type": "code",
   "execution_count": 29,
   "metadata": {},
   "outputs": [
    {
     "data": {
      "text/plain": [
       "'Take 12 up one ideas.21 one ideas at a time'"
      ]
     },
     "execution_count": 29,
     "metadata": {},
     "output_type": "execute_result"
    }
   ],
   "source": [
    "resu = re.sub('idea','ideas', str1)\n",
    "resu"
   ]
  },
  {
   "cell_type": "markdown",
   "metadata": {},
   "source": [
    "# quantifiers\n",
    "\n",
    "#To match multiple characters\n",
    "\n",
    "1. \\d+ -> One or more digits\n",
    "2. *   -> zero or more repetitions of the preceding regular expression\n",
    "3. ?   -> zero or one repetition of the preceding regular expression within flower brackets\n",
    "4. {m} -> exactly the m occurences of the preceding regular expression\n",
    "5. {m,n} -> m is the minimum number of occurences,n is the maximum number of occurences by default"
   ]
  },
  {
   "cell_type": "code",
   "execution_count": 35,
   "metadata": {},
   "outputs": [
    {
     "name": "stdout",
     "output_type": "stream",
     "text": [
      "['one', 'one']\n"
     ]
    }
   ],
   "source": [
    "rsu = re.findall(r'o\\w+', str1)\n",
    "print(rsu)"
   ]
  },
  {
   "cell_type": "code",
   "execution_count": 36,
   "metadata": {},
   "outputs": [
    {
     "name": "stdout",
     "output_type": "stream",
     "text": [
      "['one', 'one']\n"
     ]
    }
   ],
   "source": [
    "rsu = re.findall(r'o\\w*', str1)\n",
    "print(rsu)"
   ]
  },
  {
   "cell_type": "code",
   "execution_count": 37,
   "metadata": {},
   "outputs": [
    {
     "name": "stdout",
     "output_type": "stream",
     "text": [
      "['on', 'on']\n"
     ]
    }
   ],
   "source": [
    "rsu = re.findall(r'o\\w?', str1)\n",
    "print(rsu)"
   ]
  },
  {
   "cell_type": "code",
   "execution_count": 40,
   "metadata": {},
   "outputs": [
    {
     "name": "stdout",
     "output_type": "stream",
     "text": [
      "['one', 'one']\n"
     ]
    }
   ],
   "source": [
    "rsu = re.findall(r'o\\w{2}', str1)\n",
    "print(rsu)"
   ]
  },
  {
   "cell_type": "code",
   "execution_count": 43,
   "metadata": {},
   "outputs": [
    {
     "name": "stdout",
     "output_type": "stream",
     "text": [
      "['on', 'on']\n"
     ]
    }
   ],
   "source": [
    "rsu = re.findall(r'o\\w{0,1}', str1)\n",
    "print(rsu)"
   ]
  },
  {
   "cell_type": "markdown",
   "metadata": {},
   "source": [
    "# Matching_Dates"
   ]
  },
  {
   "cell_type": "code",
   "execution_count": 44,
   "metadata": {},
   "outputs": [],
   "source": [
    "str2 =\"Take 12 up 22-12-2012 one idea.21 one idea at a time 2-12-2012\""
   ]
  },
  {
   "cell_type": "code",
   "execution_count": 45,
   "metadata": {},
   "outputs": [
    {
     "name": "stdout",
     "output_type": "stream",
     "text": [
      "['22-12-2012', '2-12-2012']\n"
     ]
    }
   ],
   "source": [
    "rsu = re.findall(r'\\d{1,2}-\\d{2}-\\d{4}', str2)\n",
    "print(rsu)"
   ]
  },
  {
   "cell_type": "markdown",
   "metadata": {},
   "source": [
    "# Special_Characters"
   ]
  },
  {
   "cell_type": "markdown",
   "metadata": {},
   "source": [
    "1. \\ - Escape Character\n",
    "2. . - which matches any character except a new line symbol on digit6 on a keyword\n",
    "3. ^ - Can  be used to match a regular expression at the begining of a string\n",
    "4. $ - is the opposite the given regular expression match sh happen at the end of begining\n",
    "5. [..] - specify a range of values within a square bracket\n",
    "6. [^..] - matches everything except the ones in square brackets\n",
    "7. (..) - cant provide a regular expression within it and it will match the regular expression\n",
    "8. (R | S) - specify multiple regular expressions"
   ]
  },
  {
   "cell_type": "code",
   "execution_count": 48,
   "metadata": {},
   "outputs": [
    {
     "name": "stdout",
     "output_type": "stream",
     "text": [
      "Take\n"
     ]
    }
   ],
   "source": [
    "result1 = re.search(r'^T\\w+', str)\n",
    "print(result1.group())"
   ]
  },
  {
   "cell_type": "code",
   "execution_count": null,
   "metadata": {},
   "outputs": [],
   "source": [
    "#Which of the following quantifiers should be use for 1 or more -> +"
   ]
  }
 ],
 "metadata": {
  "kernelspec": {
   "display_name": "Python 3",
   "language": "python",
   "name": "python3"
  },
  "language_info": {
   "codemirror_mode": {
    "name": "ipython",
    "version": 3
   },
   "file_extension": ".py",
   "mimetype": "text/x-python",
   "name": "python",
   "nbconvert_exporter": "python",
   "pygments_lexer": "ipython3",
   "version": "3.7.7"
  }
 },
 "nbformat": 4,
 "nbformat_minor": 4
}
